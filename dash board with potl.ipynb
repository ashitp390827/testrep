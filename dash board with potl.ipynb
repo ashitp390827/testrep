{
    "cells": [
        {
            "cell_type": "code",
            "execution_count": 16,
            "id": "65ea4f2b",
            "metadata": {},
            "outputs": [],
            "source": ""
        },
        {
            "cell_type": "code",
            "execution_count": 17,
            "id": "613dd7ee",
            "metadata": {},
            "outputs": [
                {
                    "name": "stdout",
                    "output_type": "stream",
                    "text": "Requirement already satisfied: dash in c:\\users\\ashit\\anaconda3\\lib\\site-packages (2.8.1)\nRequirement already satisfied: Flask>=1.0.4 in c:\\users\\ashit\\anaconda3\\lib\\site-packages (from dash) (1.1.2)\nRequirement already satisfied: dash-core-components==2.0.0 in c:\\users\\ashit\\anaconda3\\lib\\site-packages (from dash) (2.0.0)\nRequirement already satisfied: dash-html-components==2.0.0 in c:\\users\\ashit\\anaconda3\\lib\\site-packages (from dash) (2.0.0)\nRequirement already satisfied: plotly>=5.0.0 in c:\\users\\ashit\\anaconda3\\lib\\site-packages (from dash) (5.13.0)\nRequirement already satisfied: dash-table==5.0.0 in c:\\users\\ashit\\anaconda3\\lib\\site-packages (from dash) (5.0.0)\nRequirement already satisfied: Jinja2>=2.10.1 in c:\\users\\ashit\\anaconda3\\lib\\site-packages (from Flask>=1.0.4->dash) (2.11.3)\nRequirement already satisfied: itsdangerous>=0.24 in c:\\users\\ashit\\anaconda3\\lib\\site-packages (from Flask>=1.0.4->dash) (2.0.1)\nRequirement already satisfied: Werkzeug>=0.15 in c:\\users\\ashit\\anaconda3\\lib\\site-packages (from Flask>=1.0.4->dash) (2.0.3)\nRequirement already satisfied: click>=5.1 in c:\\users\\ashit\\anaconda3\\lib\\site-packages (from Flask>=1.0.4->dash) (8.0.4)\nRequirement already satisfied: tenacity>=6.2.0 in c:\\users\\ashit\\anaconda3\\lib\\site-packages (from plotly>=5.0.0->dash) (8.0.1)\nRequirement already satisfied: colorama in c:\\users\\ashit\\anaconda3\\lib\\site-packages (from click>=5.1->Flask>=1.0.4->dash) (0.4.5)\nRequirement already satisfied: MarkupSafe>=0.23 in c:\\users\\ashit\\anaconda3\\lib\\site-packages (from Jinja2>=2.10.1->Flask>=1.0.4->dash) (2.0.1)\nNote: you may need to restart the kernel to use updated packages.\n"
                }
            ],
            "source": "pip install dash"
        },
        {
            "cell_type": "code",
            "execution_count": 53,
            "id": "99eddaf9",
            "metadata": {},
            "outputs": [],
            "source": "url= \"https://cf-courses-data.s3.us.cloud-object-storage.appdomain.cloud/IBM-DS0321EN-SkillsNetwork/datasets/spacex_launch_dash.csv\""
        },
        {
            "cell_type": "code",
            "execution_count": null,
            "id": "be1713f5",
            "metadata": {},
            "outputs": [
                {
                    "name": "stdout",
                    "output_type": "stream",
                    "text": "Dash is running on http://127.0.0.1:8050/\n\nDash is running on http://127.0.0.1:8050/\n\nDash is running on http://127.0.0.1:8050/\n\nDash is running on http://127.0.0.1:8050/\n\nDash is running on http://127.0.0.1:8050/\n\nDash is running on http://127.0.0.1:8050/\n\nDash is running on http://127.0.0.1:8050/\n\nDash is running on http://127.0.0.1:8050/\n\nDash is running on http://127.0.0.1:8050/\n\nDash is running on http://127.0.0.1:8050/\n\nDash is running on http://127.0.0.1:8050/\n\nDash is running on http://127.0.0.1:8050/\n\nDash is running on http://127.0.0.1:8050/\n\nDash is running on http://127.0.0.1:8050/\n\nDash is running on http://127.0.0.1:8050/\n\nDash is running on http://127.0.0.1:8050/\n\nDash is running on http://127.0.0.1:8050/\n\nDash is running on http://127.0.0.1:8050/\n\nDash is running on http://127.0.0.1:8050/\n\nDash is running on http://127.0.0.1:8050/\n\nDash is running on http://127.0.0.1:8050/\n\nDash is running on http://127.0.0.1:8050/\n\nDash is running on http://127.0.0.1:8050/\n\nDash is running on http://127.0.0.1:8050/\n\nDash is running on http://127.0.0.1:8050/\n\nDash is running on http://127.0.0.1:8050/\n\nDash is running on http://127.0.0.1:8050/\n\nDash is running on http://127.0.0.1:8050/\n\nDash is running on http://127.0.0.1:8050/\n\nDash is running on http://127.0.0.1:8050/\n\nDash is running on http://127.0.0.1:8050/\n\nDash is running on http://127.0.0.1:8050/\n\nDash is running on http://127.0.0.1:8050/\n\nDash is running on http://127.0.0.1:8050/\n\nDash is running on http://127.0.0.1:8050/\n\nDash is running on http://127.0.0.1:8050/\n\nDash is running on http://127.0.0.1:8050/\n\nDash is running on http://127.0.0.1:8050/\n\nDash is running on http://127.0.0.1:8050/\n\nDash is running on http://127.0.0.1:8050/\n\nDash is running on http://127.0.0.1:8050/\n\nDash is running on http://127.0.0.1:8050/\n\nDash is running on http://127.0.0.1:8050/\n\nDash is running on http://127.0.0.1:8050/\n\nDash is running on http://127.0.0.1:8050/\n\nDash is running on http://127.0.0.1:8050/\n\nDash is running on http://127.0.0.1:8050/\n\nDash is running on http://127.0.0.1:8050/\n\nDash is running on http://127.0.0.1:8050/\n\nDash is running on http://127.0.0.1:8050/\n\nDash is running on http://127.0.0.1:8050/\n\nDash is running on http://127.0.0.1:8050/\n\nDash is running on http://127.0.0.1:8050/\n\nDash is running on http://127.0.0.1:8050/\n\nDash is running on http://127.0.0.1:8050/\n\n * Serving Flask app \"__main__\" (lazy loading)\n * Environment: production\n\u001b[31m   WARNING: This is a development server. Do not use it in a production deployment.\u001b[0m\n\u001b[2m   Use a production WSGI server instead.\u001b[0m\n * Debug mode: off\n"
                },
                {
                    "name": "stderr",
                    "output_type": "stream",
                    "text": " * Running on http://127.0.0.1:8050/ (Press CTRL+C to quit)\n127.0.0.1 - - [06/Mar/2023 14:36:11] \"GET / HTTP/1.1\" 200 -\n127.0.0.1 - - [06/Mar/2023 14:36:11] \"GET /_dash-layout HTTP/1.1\" 200 -\n127.0.0.1 - - [06/Mar/2023 14:36:11] \"GET /_dash-dependencies HTTP/1.1\" 200 -\n127.0.0.1 - - [06/Mar/2023 14:36:11] \"GET /_dash-component-suites/dash/dcc/async-dropdown.js HTTP/1.1\" 200 -\n127.0.0.1 - - [06/Mar/2023 14:36:11] \"GET /_dash-component-suites/dash/dcc/async-graph.js HTTP/1.1\" 200 -\n127.0.0.1 - - [06/Mar/2023 14:36:11] \"GET /_dash-component-suites/dash/dcc/async-plotlyjs.js HTTP/1.1\" 200 -\n127.0.0.1 - - [06/Mar/2023 14:36:11] \"POST /_dash-update-component HTTP/1.1\" 200 -\n127.0.0.1 - - [06/Mar/2023 14:36:11] \"GET /_dash-component-suites/dash/dcc/async-slider.js HTTP/1.1\" 200 -\n127.0.0.1 - - [06/Mar/2023 14:36:11] \"POST /_dash-update-component HTTP/1.1\" 200 -\n"
                },
                {
                    "name": "stdout",
                    "output_type": "stream",
                    "text": "ALL\n"
                },
                {
                    "name": "stderr",
                    "output_type": "stream",
                    "text": "127.0.0.1 - - [06/Mar/2023 14:36:15] \"POST /_dash-update-component HTTP/1.1\" 200 -\n127.0.0.1 - - [06/Mar/2023 14:36:17] \"POST /_dash-update-component HTTP/1.1\" 200 -\n127.0.0.1 - - [06/Mar/2023 14:36:18] \"POST /_dash-update-component HTTP/1.1\" 200 -\n127.0.0.1 - - [06/Mar/2023 14:36:20] \"POST /_dash-update-component HTTP/1.1\" 200 -\n127.0.0.1 - - [06/Mar/2023 14:36:21] \"POST /_dash-update-component HTTP/1.1\" 200 -\n"
                }
            ],
            "source": "# Import required libraries\nimport pandas as pd\nimport dash\nimport dash_html_components as html\nimport dash_core_components as dcc\nfrom dash.dependencies import Input, Output\nimport plotly.express as px\n\n# Read the airline data into pandas dataframe\nspacex_df = pd.read_csv(url)\nmax_payload = spacex_df['Payload Mass (kg)'].max()\nmin_payload = spacex_df['Payload Mass (kg)'].min()\n\n# Create a dash application\napp = dash.Dash(__name__)\n\n# Create an app layout\napp.layout = html.Div(children=[html.H1('SpaceX Launch Records Dashboard',\n                                        style={'textAlign': 'center', 'color': '#503D36',\n                                               'font-size': 40}),\n                                # TASK 1: Add a dropdown list to enable Launch Site selection\n                                 dcc.Dropdown(id='drop',\n                options=[\n                    {'label': 'All Sites', 'value': 'ALL'},\n                    {'label': 'CCAFS LC-40', 'value': 'CCAFS LC-40'},\n                         {'label': 'VAFB SLC-4E', 'value': 'VAFB SLC-4E'},\n                         {'label': 'KSC LC-39A', 'value': 'KSC LC-39A'},\n                         {'label': 'CCAFS SLC-40', 'value': 'CCAFS SLC-40'},\n                     \n                ],\n                value='ALL',\n                placeholder=\"place holder here\",\n                searchable=True\n                ),\n                                # The default select value is for ALL sites\n                                # dcc.Dropdown(id='site-dropdown',...)\n                                html.Br(),\n\n                                # TASK 2: Add a pie chart to show the total successful launches count for all sites\n                                # If a specific launch site was selected, show the Success vs. Failed counts for the site\n                                html.Div(dcc.Graph(id='pie')),\n                                html.Br(),\n\n                                html.P(\"Payload range (Kg):\"),\n                                # TASK 3: Add a slider to select payload range\n                                dcc.RangeSlider(id='payload-slider',\n                                                \n                                                 min=min_payload,\n                                                 max=max_payload,\n                                                 step=1000,\n                                                 value=[min_payload, max_payload]),\n\n#                                 TASK 4: Add a scatter chart to show the correlation between payload and launch success\n                                html.Div(dcc.Graph(id='scatter')),\n                                ])\n\n# TASK 2:\n# Add a callback function for `site-dropdown` as input, `success-pie-chart` as output\n# Function decorator to specify function input and output\n\n\n@app.callback(Output(component_id='pie', component_property=\"figure\"),\n              Input(component_id='drop', component_property='value')\n             )\ndef get_pie_chart(entered_site):\n    print(entered_site)\n    filtered_df = spacex_df\n    if entered_site == 'ALL':\n        fig = px.pie(spacex_df, values='class', names=\"Launch Site\",  title='All sites')\n        \n        return fig \n    else:\n        data=spacex_df[spacex_df[\"Launch Site\"]==entered_site]\n        fig = px.pie(data,  names='class', title=f'Succsess rate at {entered_site}')\n        \n        return fig\n    \n    \n        # return the outcomes piechart for a selected site\n# TASK 4:\n# Add a callback function for `site-dropdown` and `payload-slider` as inputs, `success-payload-scatter-chart` as output\n@app.callback(Output(component_id='scatter', component_property=\"figure\"),\n              [Input(component_id='drop', component_property='value'),\n               Input(component_id=\"payload-slider\", component_property=\"value\")])\ndef get_scatter_chart(entered_site, payload_range):\n    if entered_site == 'ALL':\n        data=spacex_df\n        data=data[(data[\"Payload Mass (kg)\"]>=payload_range[0]) &  (data[\"Payload Mass (kg)\"]<= payload_range[1]) ]\n        fig = px.scatter(data, x='Payload Mass (kg)', y='class', color='Booster Version Category', title='Correlation between Payload and Success for All Launch Sites')\n        return fig\n    else:\n        data=spacex_df[spacex_df[\"Launch Site\"]==entered_site]\n        data=data[(data[\"Payload Mass (kg)\"]>=payload_range[0]) &  (data[\"Payload Mass (kg)\"]<=payload_range[1]) ]\n        fig = px.scatter(data, x='Payload Mass (kg)', y='class', color='Booster Version Category', title='Correlation between Payload and Success for All Launch Sites')\n        return fig\n# Run the app\nif __name__ == '__main__':\n    app.run_server()"
        },
        {
            "cell_type": "code",
            "execution_count": 112,
            "id": "3647e3c3",
            "metadata": {},
            "outputs": [
                {
                    "data": {
                        "text/html": "<div>\n<style scoped>\n    .dataframe tbody tr th:only-of-type {\n        vertical-align: middle;\n    }\n\n    .dataframe tbody tr th {\n        vertical-align: top;\n    }\n\n    .dataframe thead th {\n        text-align: right;\n    }\n</style>\n<table border=\"1\" class=\"dataframe\">\n  <thead>\n    <tr style=\"text-align: right;\">\n      <th></th>\n      <th>Unnamed: 0</th>\n      <th>Flight Number</th>\n      <th>Launch Site</th>\n      <th>class</th>\n      <th>Payload Mass (kg)</th>\n      <th>Booster Version</th>\n      <th>Booster Version Category</th>\n    </tr>\n  </thead>\n  <tbody>\n    <tr>\n      <th>0</th>\n      <td>0</td>\n      <td>1</td>\n      <td>CCAFS LC-40</td>\n      <td>0</td>\n      <td>0.00</td>\n      <td>F9 v1.0  B0003</td>\n      <td>v1.0</td>\n    </tr>\n    <tr>\n      <th>1</th>\n      <td>1</td>\n      <td>2</td>\n      <td>CCAFS LC-40</td>\n      <td>0</td>\n      <td>0.00</td>\n      <td>F9 v1.0  B0004</td>\n      <td>v1.0</td>\n    </tr>\n    <tr>\n      <th>2</th>\n      <td>2</td>\n      <td>3</td>\n      <td>CCAFS LC-40</td>\n      <td>0</td>\n      <td>525.00</td>\n      <td>F9 v1.0  B0005</td>\n      <td>v1.0</td>\n    </tr>\n    <tr>\n      <th>3</th>\n      <td>3</td>\n      <td>4</td>\n      <td>CCAFS LC-40</td>\n      <td>0</td>\n      <td>500.00</td>\n      <td>F9 v1.0  B0006</td>\n      <td>v1.0</td>\n    </tr>\n    <tr>\n      <th>4</th>\n      <td>4</td>\n      <td>5</td>\n      <td>CCAFS LC-40</td>\n      <td>0</td>\n      <td>677.00</td>\n      <td>F9 v1.0  B0007</td>\n      <td>v1.0</td>\n    </tr>\n    <tr>\n      <th>5</th>\n      <td>5</td>\n      <td>7</td>\n      <td>CCAFS LC-40</td>\n      <td>0</td>\n      <td>3170.00</td>\n      <td>F9 v1.1</td>\n      <td>v1.1</td>\n    </tr>\n    <tr>\n      <th>6</th>\n      <td>6</td>\n      <td>8</td>\n      <td>CCAFS LC-40</td>\n      <td>0</td>\n      <td>3325.00</td>\n      <td>F9 v1.1</td>\n      <td>v1.1</td>\n    </tr>\n    <tr>\n      <th>7</th>\n      <td>7</td>\n      <td>9</td>\n      <td>CCAFS LC-40</td>\n      <td>0</td>\n      <td>2296.00</td>\n      <td>F9 v1.1</td>\n      <td>v1.1</td>\n    </tr>\n    <tr>\n      <th>8</th>\n      <td>8</td>\n      <td>10</td>\n      <td>CCAFS LC-40</td>\n      <td>0</td>\n      <td>1316.00</td>\n      <td>F9 v1.1</td>\n      <td>v1.1</td>\n    </tr>\n    <tr>\n      <th>9</th>\n      <td>9</td>\n      <td>11</td>\n      <td>CCAFS LC-40</td>\n      <td>0</td>\n      <td>4535.00</td>\n      <td>F9 v1.1</td>\n      <td>v1.1</td>\n    </tr>\n    <tr>\n      <th>10</th>\n      <td>10</td>\n      <td>12</td>\n      <td>CCAFS LC-40</td>\n      <td>0</td>\n      <td>4428.00</td>\n      <td>F9 v1.1 B1011</td>\n      <td>v1.1</td>\n    </tr>\n    <tr>\n      <th>11</th>\n      <td>11</td>\n      <td>13</td>\n      <td>CCAFS LC-40</td>\n      <td>0</td>\n      <td>2216.00</td>\n      <td>F9 v1.1 B1010</td>\n      <td>v1.1</td>\n    </tr>\n    <tr>\n      <th>12</th>\n      <td>12</td>\n      <td>14</td>\n      <td>CCAFS LC-40</td>\n      <td>0</td>\n      <td>2395.00</td>\n      <td>F9 v1.1 B1012</td>\n      <td>v1.1</td>\n    </tr>\n    <tr>\n      <th>13</th>\n      <td>13</td>\n      <td>15</td>\n      <td>CCAFS LC-40</td>\n      <td>0</td>\n      <td>570.00</td>\n      <td>F9 v1.1 B1013</td>\n      <td>v1.1</td>\n    </tr>\n    <tr>\n      <th>14</th>\n      <td>14</td>\n      <td>16</td>\n      <td>CCAFS LC-40</td>\n      <td>0</td>\n      <td>4159.00</td>\n      <td>F9 v1.1 B1014</td>\n      <td>v1.1</td>\n    </tr>\n    <tr>\n      <th>15</th>\n      <td>15</td>\n      <td>17</td>\n      <td>CCAFS LC-40</td>\n      <td>0</td>\n      <td>1898.00</td>\n      <td>F9 v1.1 B1015</td>\n      <td>v1.1</td>\n    </tr>\n    <tr>\n      <th>16</th>\n      <td>16</td>\n      <td>18</td>\n      <td>CCAFS LC-40</td>\n      <td>0</td>\n      <td>4707.00</td>\n      <td>F9 v1.1 B1016</td>\n      <td>v1.1</td>\n    </tr>\n    <tr>\n      <th>17</th>\n      <td>17</td>\n      <td>19</td>\n      <td>CCAFS LC-40</td>\n      <td>1</td>\n      <td>1952.00</td>\n      <td>F9 v1.1 B1018</td>\n      <td>v1.1</td>\n    </tr>\n    <tr>\n      <th>18</th>\n      <td>18</td>\n      <td>20</td>\n      <td>CCAFS LC-40</td>\n      <td>1</td>\n      <td>2034.00</td>\n      <td>F9 FT B1019</td>\n      <td>FT</td>\n    </tr>\n    <tr>\n      <th>19</th>\n      <td>19</td>\n      <td>22</td>\n      <td>CCAFS LC-40</td>\n      <td>0</td>\n      <td>5271.00</td>\n      <td>F9 FT B1020</td>\n      <td>FT</td>\n    </tr>\n    <tr>\n      <th>20</th>\n      <td>20</td>\n      <td>23</td>\n      <td>CCAFS LC-40</td>\n      <td>1</td>\n      <td>3136.00</td>\n      <td>F9 FT B1021.1</td>\n      <td>FT</td>\n    </tr>\n    <tr>\n      <th>21</th>\n      <td>21</td>\n      <td>24</td>\n      <td>CCAFS LC-40</td>\n      <td>1</td>\n      <td>4696.00</td>\n      <td>F9 FT B1022</td>\n      <td>FT</td>\n    </tr>\n    <tr>\n      <th>22</th>\n      <td>22</td>\n      <td>25</td>\n      <td>CCAFS LC-40</td>\n      <td>1</td>\n      <td>3100.00</td>\n      <td>F9 FT B1023.1</td>\n      <td>FT</td>\n    </tr>\n    <tr>\n      <th>23</th>\n      <td>23</td>\n      <td>26</td>\n      <td>CCAFS LC-40</td>\n      <td>0</td>\n      <td>3600.00</td>\n      <td>F9 FT B1024</td>\n      <td>FT</td>\n    </tr>\n    <tr>\n      <th>24</th>\n      <td>24</td>\n      <td>27</td>\n      <td>CCAFS LC-40</td>\n      <td>1</td>\n      <td>2257.00</td>\n      <td>F9 FT B1025.1</td>\n      <td>FT</td>\n    </tr>\n    <tr>\n      <th>25</th>\n      <td>25</td>\n      <td>28</td>\n      <td>CCAFS LC-40</td>\n      <td>1</td>\n      <td>4600.00</td>\n      <td>F9 FT B1026</td>\n      <td>FT</td>\n    </tr>\n    <tr>\n      <th>26</th>\n      <td>26</td>\n      <td>6</td>\n      <td>VAFB SLC-4E</td>\n      <td>0</td>\n      <td>500.00</td>\n      <td>F9 v1.1  B1003</td>\n      <td>v1.1</td>\n    </tr>\n    <tr>\n      <th>27</th>\n      <td>27</td>\n      <td>21</td>\n      <td>VAFB SLC-4E</td>\n      <td>0</td>\n      <td>553.00</td>\n      <td>F9 v1.1 B1017</td>\n      <td>v1.1</td>\n    </tr>\n    <tr>\n      <th>28</th>\n      <td>28</td>\n      <td>29</td>\n      <td>VAFB SLC-4E</td>\n      <td>1</td>\n      <td>9600.00</td>\n      <td>F9 FT B1029.1</td>\n      <td>FT</td>\n    </tr>\n    <tr>\n      <th>29</th>\n      <td>29</td>\n      <td>37</td>\n      <td>VAFB SLC-4E</td>\n      <td>1</td>\n      <td>9600.00</td>\n      <td>F9 FT B1036.1</td>\n      <td>FT</td>\n    </tr>\n    <tr>\n      <th>30</th>\n      <td>30</td>\n      <td>40</td>\n      <td>VAFB SLC-4E</td>\n      <td>1</td>\n      <td>475.00</td>\n      <td>F9 FT B1038.1</td>\n      <td>FT</td>\n    </tr>\n    <tr>\n      <th>31</th>\n      <td>31</td>\n      <td>42</td>\n      <td>VAFB SLC-4E</td>\n      <td>1</td>\n      <td>9600.00</td>\n      <td>F9 B4 B1041.1</td>\n      <td>B4</td>\n    </tr>\n    <tr>\n      <th>32</th>\n      <td>32</td>\n      <td>46</td>\n      <td>VAFB SLC-4E</td>\n      <td>0</td>\n      <td>9600.00</td>\n      <td>F9 FT  B1036.2</td>\n      <td>FT</td>\n    </tr>\n    <tr>\n      <th>33</th>\n      <td>33</td>\n      <td>49</td>\n      <td>VAFB SLC-4E</td>\n      <td>0</td>\n      <td>2150.00</td>\n      <td>F9 FT  B1038.2</td>\n      <td>FT</td>\n    </tr>\n    <tr>\n      <th>34</th>\n      <td>34</td>\n      <td>51</td>\n      <td>VAFB SLC-4E</td>\n      <td>0</td>\n      <td>9600.00</td>\n      <td>F9 B4  B1041.2</td>\n      <td>B4</td>\n    </tr>\n    <tr>\n      <th>35</th>\n      <td>35</td>\n      <td>55</td>\n      <td>VAFB SLC-4E</td>\n      <td>0</td>\n      <td>6460.00</td>\n      <td>F9 B4  B1043.2</td>\n      <td>B4</td>\n    </tr>\n    <tr>\n      <th>36</th>\n      <td>36</td>\n      <td>30</td>\n      <td>KSC LC-39A</td>\n      <td>1</td>\n      <td>2490.00</td>\n      <td>F9 FT B1031.1</td>\n      <td>FT</td>\n    </tr>\n    <tr>\n      <th>37</th>\n      <td>37</td>\n      <td>31</td>\n      <td>KSC LC-39A</td>\n      <td>0</td>\n      <td>5600.00</td>\n      <td>F9 FT B1030</td>\n      <td>FT</td>\n    </tr>\n    <tr>\n      <th>38</th>\n      <td>38</td>\n      <td>32</td>\n      <td>KSC LC-39A</td>\n      <td>1</td>\n      <td>5300.00</td>\n      <td>F9 FT  B1021.2</td>\n      <td>FT</td>\n    </tr>\n    <tr>\n      <th>39</th>\n      <td>39</td>\n      <td>33</td>\n      <td>KSC LC-39A</td>\n      <td>1</td>\n      <td>3696.65</td>\n      <td>F9 FT B1032.1</td>\n      <td>FT</td>\n    </tr>\n    <tr>\n      <th>40</th>\n      <td>40</td>\n      <td>34</td>\n      <td>KSC LC-39A</td>\n      <td>0</td>\n      <td>6070.00</td>\n      <td>F9 FT B1034</td>\n      <td>FT</td>\n    </tr>\n    <tr>\n      <th>41</th>\n      <td>41</td>\n      <td>35</td>\n      <td>KSC LC-39A</td>\n      <td>1</td>\n      <td>2708.00</td>\n      <td>F9 FT B1035.1</td>\n      <td>FT</td>\n    </tr>\n    <tr>\n      <th>42</th>\n      <td>42</td>\n      <td>36</td>\n      <td>KSC LC-39A</td>\n      <td>1</td>\n      <td>3669.00</td>\n      <td>F9 FT  B1029.2</td>\n      <td>FT</td>\n    </tr>\n    <tr>\n      <th>43</th>\n      <td>43</td>\n      <td>38</td>\n      <td>KSC LC-39A</td>\n      <td>0</td>\n      <td>6761.00</td>\n      <td>F9 FT B1037</td>\n      <td>FT</td>\n    </tr>\n    <tr>\n      <th>44</th>\n      <td>44</td>\n      <td>39</td>\n      <td>KSC LC-39A</td>\n      <td>1</td>\n      <td>3310.00</td>\n      <td>F9 B4 B1039.1</td>\n      <td>B4</td>\n    </tr>\n    <tr>\n      <th>45</th>\n      <td>45</td>\n      <td>41</td>\n      <td>KSC LC-39A</td>\n      <td>1</td>\n      <td>4990.00</td>\n      <td>F9 B4 B1040.1</td>\n      <td>B4</td>\n    </tr>\n    <tr>\n      <th>46</th>\n      <td>46</td>\n      <td>43</td>\n      <td>KSC LC-39A</td>\n      <td>1</td>\n      <td>5200.00</td>\n      <td>F9 FT  B1031.2</td>\n      <td>FT</td>\n    </tr>\n    <tr>\n      <th>47</th>\n      <td>47</td>\n      <td>44</td>\n      <td>KSC LC-39A</td>\n      <td>1</td>\n      <td>3500.00</td>\n      <td>F9 B4 B1042.1</td>\n      <td>B4</td>\n    </tr>\n    <tr>\n      <th>48</th>\n      <td>48</td>\n      <td>54</td>\n      <td>KSC LC-39A</td>\n      <td>1</td>\n      <td>3600.00</td>\n      <td>F9 B5  B1046.1</td>\n      <td>B5</td>\n    </tr>\n    <tr>\n      <th>49</th>\n      <td>49</td>\n      <td>45</td>\n      <td>CCAFS SLC-40</td>\n      <td>1</td>\n      <td>2205.00</td>\n      <td>F9 FT  B1035.2</td>\n      <td>FT</td>\n    </tr>\n    <tr>\n      <th>50</th>\n      <td>50</td>\n      <td>47</td>\n      <td>CCAFS SLC-40</td>\n      <td>1</td>\n      <td>3696.65</td>\n      <td>F9 B4 B1043.1</td>\n      <td>B4</td>\n    </tr>\n    <tr>\n      <th>51</th>\n      <td>51</td>\n      <td>48</td>\n      <td>CCAFS SLC-40</td>\n      <td>0</td>\n      <td>4230.00</td>\n      <td>F9 FT  B1032.2</td>\n      <td>FT</td>\n    </tr>\n    <tr>\n      <th>52</th>\n      <td>52</td>\n      <td>50</td>\n      <td>CCAFS SLC-40</td>\n      <td>0</td>\n      <td>6092.00</td>\n      <td>F9 B4 B1044</td>\n      <td>B4</td>\n    </tr>\n    <tr>\n      <th>53</th>\n      <td>53</td>\n      <td>52</td>\n      <td>CCAFS SLC-40</td>\n      <td>0</td>\n      <td>2647.00</td>\n      <td>F9 B4  B1039.2</td>\n      <td>B4</td>\n    </tr>\n    <tr>\n      <th>54</th>\n      <td>54</td>\n      <td>53</td>\n      <td>CCAFS SLC-40</td>\n      <td>1</td>\n      <td>362.00</td>\n      <td>F9 B4 B1045.1</td>\n      <td>B4</td>\n    </tr>\n    <tr>\n      <th>55</th>\n      <td>55</td>\n      <td>56</td>\n      <td>CCAFS SLC-40</td>\n      <td>0</td>\n      <td>5384.00</td>\n      <td>F9 B4  B1040.2</td>\n      <td>B4</td>\n    </tr>\n  </tbody>\n</table>\n</div>",
                        "text/plain": "    Unnamed: 0  Flight Number   Launch Site  class  Payload Mass (kg)  \\\n0            0              1   CCAFS LC-40      0               0.00   \n1            1              2   CCAFS LC-40      0               0.00   \n2            2              3   CCAFS LC-40      0             525.00   \n3            3              4   CCAFS LC-40      0             500.00   \n4            4              5   CCAFS LC-40      0             677.00   \n5            5              7   CCAFS LC-40      0            3170.00   \n6            6              8   CCAFS LC-40      0            3325.00   \n7            7              9   CCAFS LC-40      0            2296.00   \n8            8             10   CCAFS LC-40      0            1316.00   \n9            9             11   CCAFS LC-40      0            4535.00   \n10          10             12   CCAFS LC-40      0            4428.00   \n11          11             13   CCAFS LC-40      0            2216.00   \n12          12             14   CCAFS LC-40      0            2395.00   \n13          13             15   CCAFS LC-40      0             570.00   \n14          14             16   CCAFS LC-40      0            4159.00   \n15          15             17   CCAFS LC-40      0            1898.00   \n16          16             18   CCAFS LC-40      0            4707.00   \n17          17             19   CCAFS LC-40      1            1952.00   \n18          18             20   CCAFS LC-40      1            2034.00   \n19          19             22   CCAFS LC-40      0            5271.00   \n20          20             23   CCAFS LC-40      1            3136.00   \n21          21             24   CCAFS LC-40      1            4696.00   \n22          22             25   CCAFS LC-40      1            3100.00   \n23          23             26   CCAFS LC-40      0            3600.00   \n24          24             27   CCAFS LC-40      1            2257.00   \n25          25             28   CCAFS LC-40      1            4600.00   \n26          26              6   VAFB SLC-4E      0             500.00   \n27          27             21   VAFB SLC-4E      0             553.00   \n28          28             29   VAFB SLC-4E      1            9600.00   \n29          29             37   VAFB SLC-4E      1            9600.00   \n30          30             40   VAFB SLC-4E      1             475.00   \n31          31             42   VAFB SLC-4E      1            9600.00   \n32          32             46   VAFB SLC-4E      0            9600.00   \n33          33             49   VAFB SLC-4E      0            2150.00   \n34          34             51   VAFB SLC-4E      0            9600.00   \n35          35             55   VAFB SLC-4E      0            6460.00   \n36          36             30    KSC LC-39A      1            2490.00   \n37          37             31    KSC LC-39A      0            5600.00   \n38          38             32    KSC LC-39A      1            5300.00   \n39          39             33    KSC LC-39A      1            3696.65   \n40          40             34    KSC LC-39A      0            6070.00   \n41          41             35    KSC LC-39A      1            2708.00   \n42          42             36    KSC LC-39A      1            3669.00   \n43          43             38    KSC LC-39A      0            6761.00   \n44          44             39    KSC LC-39A      1            3310.00   \n45          45             41    KSC LC-39A      1            4990.00   \n46          46             43    KSC LC-39A      1            5200.00   \n47          47             44    KSC LC-39A      1            3500.00   \n48          48             54    KSC LC-39A      1            3600.00   \n49          49             45  CCAFS SLC-40      1            2205.00   \n50          50             47  CCAFS SLC-40      1            3696.65   \n51          51             48  CCAFS SLC-40      0            4230.00   \n52          52             50  CCAFS SLC-40      0            6092.00   \n53          53             52  CCAFS SLC-40      0            2647.00   \n54          54             53  CCAFS SLC-40      1             362.00   \n55          55             56  CCAFS SLC-40      0            5384.00   \n\n   Booster Version Booster Version Category  \n0   F9 v1.0  B0003                     v1.0  \n1   F9 v1.0  B0004                     v1.0  \n2   F9 v1.0  B0005                     v1.0  \n3   F9 v1.0  B0006                     v1.0  \n4   F9 v1.0  B0007                     v1.0  \n5          F9 v1.1                     v1.1  \n6          F9 v1.1                     v1.1  \n7          F9 v1.1                     v1.1  \n8          F9 v1.1                     v1.1  \n9          F9 v1.1                     v1.1  \n10   F9 v1.1 B1011                     v1.1  \n11   F9 v1.1 B1010                     v1.1  \n12   F9 v1.1 B1012                     v1.1  \n13   F9 v1.1 B1013                     v1.1  \n14   F9 v1.1 B1014                     v1.1  \n15   F9 v1.1 B1015                     v1.1  \n16   F9 v1.1 B1016                     v1.1  \n17   F9 v1.1 B1018                     v1.1  \n18     F9 FT B1019                       FT  \n19     F9 FT B1020                       FT  \n20   F9 FT B1021.1                       FT  \n21     F9 FT B1022                       FT  \n22   F9 FT B1023.1                       FT  \n23     F9 FT B1024                       FT  \n24   F9 FT B1025.1                       FT  \n25     F9 FT B1026                       FT  \n26  F9 v1.1  B1003                     v1.1  \n27   F9 v1.1 B1017                     v1.1  \n28   F9 FT B1029.1                       FT  \n29   F9 FT B1036.1                       FT  \n30   F9 FT B1038.1                       FT  \n31   F9 B4 B1041.1                       B4  \n32  F9 FT  B1036.2                       FT  \n33  F9 FT  B1038.2                       FT  \n34  F9 B4  B1041.2                       B4  \n35  F9 B4  B1043.2                       B4  \n36   F9 FT B1031.1                       FT  \n37     F9 FT B1030                       FT  \n38  F9 FT  B1021.2                       FT  \n39   F9 FT B1032.1                       FT  \n40     F9 FT B1034                       FT  \n41   F9 FT B1035.1                       FT  \n42  F9 FT  B1029.2                       FT  \n43     F9 FT B1037                       FT  \n44   F9 B4 B1039.1                       B4  \n45   F9 B4 B1040.1                       B4  \n46  F9 FT  B1031.2                       FT  \n47   F9 B4 B1042.1                       B4  \n48  F9 B5  B1046.1                       B5  \n49  F9 FT  B1035.2                       FT  \n50   F9 B4 B1043.1                       B4  \n51  F9 FT  B1032.2                       FT  \n52     F9 B4 B1044                       B4  \n53  F9 B4  B1039.2                       B4  \n54   F9 B4 B1045.1                       B4  \n55  F9 B4  B1040.2                       B4  "
                    },
                    "execution_count": 112,
                    "metadata": {},
                    "output_type": "execute_result"
                }
            ],
            "source": "spacex_df"
        },
        {
            "cell_type": "code",
            "execution_count": 105,
            "id": "e7ed07fa",
            "metadata": {},
            "outputs": [
                {
                    "data": {
                        "application/vnd.plotly.v1+json": {
                            "config": {
                                "plotlyServerURL": "https://plot.ly"
                            },
                            "data": [
                                {
                                    "domain": {
                                        "x": [
                                            0,
                                            1
                                        ],
                                        "y": [
                                            0,
                                            1
                                        ]
                                    },
                                    "hovertemplate": "Launch Site=%{label}<br>class=%{value}<extra></extra>",
                                    "labels": [
                                        "CCAFS LC-40",
                                        "CCAFS LC-40",
                                        "CCAFS LC-40",
                                        "CCAFS LC-40",
                                        "CCAFS LC-40",
                                        "CCAFS LC-40",
                                        "CCAFS LC-40",
                                        "CCAFS LC-40",
                                        "CCAFS LC-40",
                                        "CCAFS LC-40",
                                        "CCAFS LC-40",
                                        "CCAFS LC-40",
                                        "CCAFS LC-40",
                                        "CCAFS LC-40",
                                        "CCAFS LC-40",
                                        "CCAFS LC-40",
                                        "CCAFS LC-40",
                                        "CCAFS LC-40",
                                        "CCAFS LC-40",
                                        "CCAFS LC-40",
                                        "CCAFS LC-40",
                                        "CCAFS LC-40",
                                        "CCAFS LC-40",
                                        "CCAFS LC-40",
                                        "CCAFS LC-40",
                                        "CCAFS LC-40",
                                        "VAFB SLC-4E",
                                        "VAFB SLC-4E",
                                        "VAFB SLC-4E",
                                        "VAFB SLC-4E",
                                        "VAFB SLC-4E",
                                        "VAFB SLC-4E",
                                        "VAFB SLC-4E",
                                        "VAFB SLC-4E",
                                        "VAFB SLC-4E",
                                        "VAFB SLC-4E",
                                        "KSC LC-39A",
                                        "KSC LC-39A",
                                        "KSC LC-39A",
                                        "KSC LC-39A",
                                        "KSC LC-39A",
                                        "KSC LC-39A",
                                        "KSC LC-39A",
                                        "KSC LC-39A",
                                        "KSC LC-39A",
                                        "KSC LC-39A",
                                        "KSC LC-39A",
                                        "KSC LC-39A",
                                        "KSC LC-39A",
                                        "CCAFS SLC-40",
                                        "CCAFS SLC-40",
                                        "CCAFS SLC-40",
                                        "CCAFS SLC-40",
                                        "CCAFS SLC-40",
                                        "CCAFS SLC-40",
                                        "CCAFS SLC-40"
                                    ],
                                    "legendgroup": "",
                                    "name": "",
                                    "showlegend": true,
                                    "type": "pie",
                                    "values": [
                                        0,
                                        0,
                                        0,
                                        0,
                                        0,
                                        0,
                                        0,
                                        0,
                                        0,
                                        0,
                                        0,
                                        0,
                                        0,
                                        0,
                                        0,
                                        0,
                                        0,
                                        1,
                                        1,
                                        0,
                                        1,
                                        1,
                                        1,
                                        0,
                                        1,
                                        1,
                                        0,
                                        0,
                                        1,
                                        1,
                                        1,
                                        1,
                                        0,
                                        0,
                                        0,
                                        0,
                                        1,
                                        0,
                                        1,
                                        1,
                                        0,
                                        1,
                                        1,
                                        0,
                                        1,
                                        1,
                                        1,
                                        1,
                                        1,
                                        1,
                                        1,
                                        0,
                                        0,
                                        0,
                                        1,
                                        0
                                    ]
                                }
                            ],
                            "layout": {
                                "legend": {
                                    "tracegroupgap": 0
                                },
                                "template": {
                                    "data": {
                                        "bar": [
                                            {
                                                "error_x": {
                                                    "color": "#2a3f5f"
                                                },
                                                "error_y": {
                                                    "color": "#2a3f5f"
                                                },
                                                "marker": {
                                                    "line": {
                                                        "color": "#E5ECF6",
                                                        "width": 0.5
                                                    },
                                                    "pattern": {
                                                        "fillmode": "overlay",
                                                        "size": 10,
                                                        "solidity": 0.2
                                                    }
                                                },
                                                "type": "bar"
                                            }
                                        ],
                                        "barpolar": [
                                            {
                                                "marker": {
                                                    "line": {
                                                        "color": "#E5ECF6",
                                                        "width": 0.5
                                                    },
                                                    "pattern": {
                                                        "fillmode": "overlay",
                                                        "size": 10,
                                                        "solidity": 0.2
                                                    }
                                                },
                                                "type": "barpolar"
                                            }
                                        ],
                                        "carpet": [
                                            {
                                                "aaxis": {
                                                    "endlinecolor": "#2a3f5f",
                                                    "gridcolor": "white",
                                                    "linecolor": "white",
                                                    "minorgridcolor": "white",
                                                    "startlinecolor": "#2a3f5f"
                                                },
                                                "baxis": {
                                                    "endlinecolor": "#2a3f5f",
                                                    "gridcolor": "white",
                                                    "linecolor": "white",
                                                    "minorgridcolor": "white",
                                                    "startlinecolor": "#2a3f5f"
                                                },
                                                "type": "carpet"
                                            }
                                        ],
                                        "choropleth": [
                                            {
                                                "colorbar": {
                                                    "outlinewidth": 0,
                                                    "ticks": ""
                                                },
                                                "type": "choropleth"
                                            }
                                        ],
                                        "contour": [
                                            {
                                                "colorbar": {
                                                    "outlinewidth": 0,
                                                    "ticks": ""
                                                },
                                                "colorscale": [
                                                    [
                                                        0,
                                                        "#0d0887"
                                                    ],
                                                    [
                                                        0.1111111111111111,
                                                        "#46039f"
                                                    ],
                                                    [
                                                        0.2222222222222222,
                                                        "#7201a8"
                                                    ],
                                                    [
                                                        0.3333333333333333,
                                                        "#9c179e"
                                                    ],
                                                    [
                                                        0.4444444444444444,
                                                        "#bd3786"
                                                    ],
                                                    [
                                                        0.5555555555555556,
                                                        "#d8576b"
                                                    ],
                                                    [
                                                        0.6666666666666666,
                                                        "#ed7953"
                                                    ],
                                                    [
                                                        0.7777777777777778,
                                                        "#fb9f3a"
                                                    ],
                                                    [
                                                        0.8888888888888888,
                                                        "#fdca26"
                                                    ],
                                                    [
                                                        1,
                                                        "#f0f921"
                                                    ]
                                                ],
                                                "type": "contour"
                                            }
                                        ],
                                        "contourcarpet": [
                                            {
                                                "colorbar": {
                                                    "outlinewidth": 0,
                                                    "ticks": ""
                                                },
                                                "type": "contourcarpet"
                                            }
                                        ],
                                        "heatmap": [
                                            {
                                                "colorbar": {
                                                    "outlinewidth": 0,
                                                    "ticks": ""
                                                },
                                                "colorscale": [
                                                    [
                                                        0,
                                                        "#0d0887"
                                                    ],
                                                    [
                                                        0.1111111111111111,
                                                        "#46039f"
                                                    ],
                                                    [
                                                        0.2222222222222222,
                                                        "#7201a8"
                                                    ],
                                                    [
                                                        0.3333333333333333,
                                                        "#9c179e"
                                                    ],
                                                    [
                                                        0.4444444444444444,
                                                        "#bd3786"
                                                    ],
                                                    [
                                                        0.5555555555555556,
                                                        "#d8576b"
                                                    ],
                                                    [
                                                        0.6666666666666666,
                                                        "#ed7953"
                                                    ],
                                                    [
                                                        0.7777777777777778,
                                                        "#fb9f3a"
                                                    ],
                                                    [
                                                        0.8888888888888888,
                                                        "#fdca26"
                                                    ],
                                                    [
                                                        1,
                                                        "#f0f921"
                                                    ]
                                                ],
                                                "type": "heatmap"
                                            }
                                        ],
                                        "heatmapgl": [
                                            {
                                                "colorbar": {
                                                    "outlinewidth": 0,
                                                    "ticks": ""
                                                },
                                                "colorscale": [
                                                    [
                                                        0,
                                                        "#0d0887"
                                                    ],
                                                    [
                                                        0.1111111111111111,
                                                        "#46039f"
                                                    ],
                                                    [
                                                        0.2222222222222222,
                                                        "#7201a8"
                                                    ],
                                                    [
                                                        0.3333333333333333,
                                                        "#9c179e"
                                                    ],
                                                    [
                                                        0.4444444444444444,
                                                        "#bd3786"
                                                    ],
                                                    [
                                                        0.5555555555555556,
                                                        "#d8576b"
                                                    ],
                                                    [
                                                        0.6666666666666666,
                                                        "#ed7953"
                                                    ],
                                                    [
                                                        0.7777777777777778,
                                                        "#fb9f3a"
                                                    ],
                                                    [
                                                        0.8888888888888888,
                                                        "#fdca26"
                                                    ],
                                                    [
                                                        1,
                                                        "#f0f921"
                                                    ]
                                                ],
                                                "type": "heatmapgl"
                                            }
                                        ],
                                        "histogram": [
                                            {
                                                "marker": {
                                                    "pattern": {
                                                        "fillmode": "overlay",
                                                        "size": 10,
                                                        "solidity": 0.2
                                                    }
                                                },
                                                "type": "histogram"
                                            }
                                        ],
                                        "histogram2d": [
                                            {
                                                "colorbar": {
                                                    "outlinewidth": 0,
                                                    "ticks": ""
                                                },
                                                "colorscale": [
                                                    [
                                                        0,
                                                        "#0d0887"
                                                    ],
                                                    [
                                                        0.1111111111111111,
                                                        "#46039f"
                                                    ],
                                                    [
                                                        0.2222222222222222,
                                                        "#7201a8"
                                                    ],
                                                    [
                                                        0.3333333333333333,
                                                        "#9c179e"
                                                    ],
                                                    [
                                                        0.4444444444444444,
                                                        "#bd3786"
                                                    ],
                                                    [
                                                        0.5555555555555556,
                                                        "#d8576b"
                                                    ],
                                                    [
                                                        0.6666666666666666,
                                                        "#ed7953"
                                                    ],
                                                    [
                                                        0.7777777777777778,
                                                        "#fb9f3a"
                                                    ],
                                                    [
                                                        0.8888888888888888,
                                                        "#fdca26"
                                                    ],
                                                    [
                                                        1,
                                                        "#f0f921"
                                                    ]
                                                ],
                                                "type": "histogram2d"
                                            }
                                        ],
                                        "histogram2dcontour": [
                                            {
                                                "colorbar": {
                                                    "outlinewidth": 0,
                                                    "ticks": ""
                                                },
                                                "colorscale": [
                                                    [
                                                        0,
                                                        "#0d0887"
                                                    ],
                                                    [
                                                        0.1111111111111111,
                                                        "#46039f"
                                                    ],
                                                    [
                                                        0.2222222222222222,
                                                        "#7201a8"
                                                    ],
                                                    [
                                                        0.3333333333333333,
                                                        "#9c179e"
                                                    ],
                                                    [
                                                        0.4444444444444444,
                                                        "#bd3786"
                                                    ],
                                                    [
                                                        0.5555555555555556,
                                                        "#d8576b"
                                                    ],
                                                    [
                                                        0.6666666666666666,
                                                        "#ed7953"
                                                    ],
                                                    [
                                                        0.7777777777777778,
                                                        "#fb9f3a"
                                                    ],
                                                    [
                                                        0.8888888888888888,
                                                        "#fdca26"
                                                    ],
                                                    [
                                                        1,
                                                        "#f0f921"
                                                    ]
                                                ],
                                                "type": "histogram2dcontour"
                                            }
                                        ],
                                        "mesh3d": [
                                            {
                                                "colorbar": {
                                                    "outlinewidth": 0,
                                                    "ticks": ""
                                                },
                                                "type": "mesh3d"
                                            }
                                        ],
                                        "parcoords": [
                                            {
                                                "line": {
                                                    "colorbar": {
                                                        "outlinewidth": 0,
                                                        "ticks": ""
                                                    }
                                                },
                                                "type": "parcoords"
                                            }
                                        ],
                                        "pie": [
                                            {
                                                "automargin": true,
                                                "type": "pie"
                                            }
                                        ],
                                        "scatter": [
                                            {
                                                "fillpattern": {
                                                    "fillmode": "overlay",
                                                    "size": 10,
                                                    "solidity": 0.2
                                                },
                                                "type": "scatter"
                                            }
                                        ],
                                        "scatter3d": [
                                            {
                                                "line": {
                                                    "colorbar": {
                                                        "outlinewidth": 0,
                                                        "ticks": ""
                                                    }
                                                },
                                                "marker": {
                                                    "colorbar": {
                                                        "outlinewidth": 0,
                                                        "ticks": ""
                                                    }
                                                },
                                                "type": "scatter3d"
                                            }
                                        ],
                                        "scattercarpet": [
                                            {
                                                "marker": {
                                                    "colorbar": {
                                                        "outlinewidth": 0,
                                                        "ticks": ""
                                                    }
                                                },
                                                "type": "scattercarpet"
                                            }
                                        ],
                                        "scattergeo": [
                                            {
                                                "marker": {
                                                    "colorbar": {
                                                        "outlinewidth": 0,
                                                        "ticks": ""
                                                    }
                                                },
                                                "type": "scattergeo"
                                            }
                                        ],
                                        "scattergl": [
                                            {
                                                "marker": {
                                                    "colorbar": {
                                                        "outlinewidth": 0,
                                                        "ticks": ""
                                                    }
                                                },
                                                "type": "scattergl"
                                            }
                                        ],
                                        "scattermapbox": [
                                            {
                                                "marker": {
                                                    "colorbar": {
                                                        "outlinewidth": 0,
                                                        "ticks": ""
                                                    }
                                                },
                                                "type": "scattermapbox"
                                            }
                                        ],
                                        "scatterpolar": [
                                            {
                                                "marker": {
                                                    "colorbar": {
                                                        "outlinewidth": 0,
                                                        "ticks": ""
                                                    }
                                                },
                                                "type": "scatterpolar"
                                            }
                                        ],
                                        "scatterpolargl": [
                                            {
                                                "marker": {
                                                    "colorbar": {
                                                        "outlinewidth": 0,
                                                        "ticks": ""
                                                    }
                                                },
                                                "type": "scatterpolargl"
                                            }
                                        ],
                                        "scatterternary": [
                                            {
                                                "marker": {
                                                    "colorbar": {
                                                        "outlinewidth": 0,
                                                        "ticks": ""
                                                    }
                                                },
                                                "type": "scatterternary"
                                            }
                                        ],
                                        "surface": [
                                            {
                                                "colorbar": {
                                                    "outlinewidth": 0,
                                                    "ticks": ""
                                                },
                                                "colorscale": [
                                                    [
                                                        0,
                                                        "#0d0887"
                                                    ],
                                                    [
                                                        0.1111111111111111,
                                                        "#46039f"
                                                    ],
                                                    [
                                                        0.2222222222222222,
                                                        "#7201a8"
                                                    ],
                                                    [
                                                        0.3333333333333333,
                                                        "#9c179e"
                                                    ],
                                                    [
                                                        0.4444444444444444,
                                                        "#bd3786"
                                                    ],
                                                    [
                                                        0.5555555555555556,
                                                        "#d8576b"
                                                    ],
                                                    [
                                                        0.6666666666666666,
                                                        "#ed7953"
                                                    ],
                                                    [
                                                        0.7777777777777778,
                                                        "#fb9f3a"
                                                    ],
                                                    [
                                                        0.8888888888888888,
                                                        "#fdca26"
                                                    ],
                                                    [
                                                        1,
                                                        "#f0f921"
                                                    ]
                                                ],
                                                "type": "surface"
                                            }
                                        ],
                                        "table": [
                                            {
                                                "cells": {
                                                    "fill": {
                                                        "color": "#EBF0F8"
                                                    },
                                                    "line": {
                                                        "color": "white"
                                                    }
                                                },
                                                "header": {
                                                    "fill": {
                                                        "color": "#C8D4E3"
                                                    },
                                                    "line": {
                                                        "color": "white"
                                                    }
                                                },
                                                "type": "table"
                                            }
                                        ]
                                    },
                                    "layout": {
                                        "annotationdefaults": {
                                            "arrowcolor": "#2a3f5f",
                                            "arrowhead": 0,
                                            "arrowwidth": 1
                                        },
                                        "autotypenumbers": "strict",
                                        "coloraxis": {
                                            "colorbar": {
                                                "outlinewidth": 0,
                                                "ticks": ""
                                            }
                                        },
                                        "colorscale": {
                                            "diverging": [
                                                [
                                                    0,
                                                    "#8e0152"
                                                ],
                                                [
                                                    0.1,
                                                    "#c51b7d"
                                                ],
                                                [
                                                    0.2,
                                                    "#de77ae"
                                                ],
                                                [
                                                    0.3,
                                                    "#f1b6da"
                                                ],
                                                [
                                                    0.4,
                                                    "#fde0ef"
                                                ],
                                                [
                                                    0.5,
                                                    "#f7f7f7"
                                                ],
                                                [
                                                    0.6,
                                                    "#e6f5d0"
                                                ],
                                                [
                                                    0.7,
                                                    "#b8e186"
                                                ],
                                                [
                                                    0.8,
                                                    "#7fbc41"
                                                ],
                                                [
                                                    0.9,
                                                    "#4d9221"
                                                ],
                                                [
                                                    1,
                                                    "#276419"
                                                ]
                                            ],
                                            "sequential": [
                                                [
                                                    0,
                                                    "#0d0887"
                                                ],
                                                [
                                                    0.1111111111111111,
                                                    "#46039f"
                                                ],
                                                [
                                                    0.2222222222222222,
                                                    "#7201a8"
                                                ],
                                                [
                                                    0.3333333333333333,
                                                    "#9c179e"
                                                ],
                                                [
                                                    0.4444444444444444,
                                                    "#bd3786"
                                                ],
                                                [
                                                    0.5555555555555556,
                                                    "#d8576b"
                                                ],
                                                [
                                                    0.6666666666666666,
                                                    "#ed7953"
                                                ],
                                                [
                                                    0.7777777777777778,
                                                    "#fb9f3a"
                                                ],
                                                [
                                                    0.8888888888888888,
                                                    "#fdca26"
                                                ],
                                                [
                                                    1,
                                                    "#f0f921"
                                                ]
                                            ],
                                            "sequentialminus": [
                                                [
                                                    0,
                                                    "#0d0887"
                                                ],
                                                [
                                                    0.1111111111111111,
                                                    "#46039f"
                                                ],
                                                [
                                                    0.2222222222222222,
                                                    "#7201a8"
                                                ],
                                                [
                                                    0.3333333333333333,
                                                    "#9c179e"
                                                ],
                                                [
                                                    0.4444444444444444,
                                                    "#bd3786"
                                                ],
                                                [
                                                    0.5555555555555556,
                                                    "#d8576b"
                                                ],
                                                [
                                                    0.6666666666666666,
                                                    "#ed7953"
                                                ],
                                                [
                                                    0.7777777777777778,
                                                    "#fb9f3a"
                                                ],
                                                [
                                                    0.8888888888888888,
                                                    "#fdca26"
                                                ],
                                                [
                                                    1,
                                                    "#f0f921"
                                                ]
                                            ]
                                        },
                                        "colorway": [
                                            "#636efa",
                                            "#EF553B",
                                            "#00cc96",
                                            "#ab63fa",
                                            "#FFA15A",
                                            "#19d3f3",
                                            "#FF6692",
                                            "#B6E880",
                                            "#FF97FF",
                                            "#FECB52"
                                        ],
                                        "font": {
                                            "color": "#2a3f5f"
                                        },
                                        "geo": {
                                            "bgcolor": "white",
                                            "lakecolor": "white",
                                            "landcolor": "#E5ECF6",
                                            "showlakes": true,
                                            "showland": true,
                                            "subunitcolor": "white"
                                        },
                                        "hoverlabel": {
                                            "align": "left"
                                        },
                                        "hovermode": "closest",
                                        "mapbox": {
                                            "style": "light"
                                        },
                                        "paper_bgcolor": "white",
                                        "plot_bgcolor": "#E5ECF6",
                                        "polar": {
                                            "angularaxis": {
                                                "gridcolor": "white",
                                                "linecolor": "white",
                                                "ticks": ""
                                            },
                                            "bgcolor": "#E5ECF6",
                                            "radialaxis": {
                                                "gridcolor": "white",
                                                "linecolor": "white",
                                                "ticks": ""
                                            }
                                        },
                                        "scene": {
                                            "xaxis": {
                                                "backgroundcolor": "#E5ECF6",
                                                "gridcolor": "white",
                                                "gridwidth": 2,
                                                "linecolor": "white",
                                                "showbackground": true,
                                                "ticks": "",
                                                "zerolinecolor": "white"
                                            },
                                            "yaxis": {
                                                "backgroundcolor": "#E5ECF6",
                                                "gridcolor": "white",
                                                "gridwidth": 2,
                                                "linecolor": "white",
                                                "showbackground": true,
                                                "ticks": "",
                                                "zerolinecolor": "white"
                                            },
                                            "zaxis": {
                                                "backgroundcolor": "#E5ECF6",
                                                "gridcolor": "white",
                                                "gridwidth": 2,
                                                "linecolor": "white",
                                                "showbackground": true,
                                                "ticks": "",
                                                "zerolinecolor": "white"
                                            }
                                        },
                                        "shapedefaults": {
                                            "line": {
                                                "color": "#2a3f5f"
                                            }
                                        },
                                        "ternary": {
                                            "aaxis": {
                                                "gridcolor": "white",
                                                "linecolor": "white",
                                                "ticks": ""
                                            },
                                            "baxis": {
                                                "gridcolor": "white",
                                                "linecolor": "white",
                                                "ticks": ""
                                            },
                                            "bgcolor": "#E5ECF6",
                                            "caxis": {
                                                "gridcolor": "white",
                                                "linecolor": "white",
                                                "ticks": ""
                                            }
                                        },
                                        "title": {
                                            "x": 0.05
                                        },
                                        "xaxis": {
                                            "automargin": true,
                                            "gridcolor": "white",
                                            "linecolor": "white",
                                            "ticks": "",
                                            "title": {
                                                "standoff": 15
                                            },
                                            "zerolinecolor": "white",
                                            "zerolinewidth": 2
                                        },
                                        "yaxis": {
                                            "automargin": true,
                                            "gridcolor": "white",
                                            "linecolor": "white",
                                            "ticks": "",
                                            "title": {
                                                "standoff": 15
                                            },
                                            "zerolinecolor": "white",
                                            "zerolinewidth": 2
                                        }
                                    }
                                },
                                "title": {
                                    "text": "All sites"
                                }
                            }
                        },
                        "text/html": "<div>                            <div id=\"04a3a27d-c3f1-4433-84a3-a27aac02ee61\" class=\"plotly-graph-div\" style=\"height:525px; width:100%;\"></div>            <script type=\"text/javascript\">                require([\"plotly\"], function(Plotly) {                    window.PLOTLYENV=window.PLOTLYENV || {};                                    if (document.getElementById(\"04a3a27d-c3f1-4433-84a3-a27aac02ee61\")) {                    Plotly.newPlot(                        \"04a3a27d-c3f1-4433-84a3-a27aac02ee61\",                        [{\"domain\":{\"x\":[0.0,1.0],\"y\":[0.0,1.0]},\"hovertemplate\":\"Launch Site=%{label}<br>class=%{value}<extra></extra>\",\"labels\":[\"CCAFS LC-40\",\"CCAFS LC-40\",\"CCAFS LC-40\",\"CCAFS LC-40\",\"CCAFS LC-40\",\"CCAFS LC-40\",\"CCAFS LC-40\",\"CCAFS LC-40\",\"CCAFS LC-40\",\"CCAFS LC-40\",\"CCAFS LC-40\",\"CCAFS LC-40\",\"CCAFS LC-40\",\"CCAFS LC-40\",\"CCAFS LC-40\",\"CCAFS LC-40\",\"CCAFS LC-40\",\"CCAFS LC-40\",\"CCAFS LC-40\",\"CCAFS LC-40\",\"CCAFS LC-40\",\"CCAFS LC-40\",\"CCAFS LC-40\",\"CCAFS LC-40\",\"CCAFS LC-40\",\"CCAFS LC-40\",\"VAFB SLC-4E\",\"VAFB SLC-4E\",\"VAFB SLC-4E\",\"VAFB SLC-4E\",\"VAFB SLC-4E\",\"VAFB SLC-4E\",\"VAFB SLC-4E\",\"VAFB SLC-4E\",\"VAFB SLC-4E\",\"VAFB SLC-4E\",\"KSC LC-39A\",\"KSC LC-39A\",\"KSC LC-39A\",\"KSC LC-39A\",\"KSC LC-39A\",\"KSC LC-39A\",\"KSC LC-39A\",\"KSC LC-39A\",\"KSC LC-39A\",\"KSC LC-39A\",\"KSC LC-39A\",\"KSC LC-39A\",\"KSC LC-39A\",\"CCAFS SLC-40\",\"CCAFS SLC-40\",\"CCAFS SLC-40\",\"CCAFS SLC-40\",\"CCAFS SLC-40\",\"CCAFS SLC-40\",\"CCAFS SLC-40\"],\"legendgroup\":\"\",\"name\":\"\",\"showlegend\":true,\"values\":[0,0,0,0,0,0,0,0,0,0,0,0,0,0,0,0,0,1,1,0,1,1,1,0,1,1,0,0,1,1,1,1,0,0,0,0,1,0,1,1,0,1,1,0,1,1,1,1,1,1,1,0,0,0,1,0],\"type\":\"pie\"}],                        {\"template\":{\"data\":{\"histogram2dcontour\":[{\"type\":\"histogram2dcontour\",\"colorbar\":{\"outlinewidth\":0,\"ticks\":\"\"},\"colorscale\":[[0.0,\"#0d0887\"],[0.1111111111111111,\"#46039f\"],[0.2222222222222222,\"#7201a8\"],[0.3333333333333333,\"#9c179e\"],[0.4444444444444444,\"#bd3786\"],[0.5555555555555556,\"#d8576b\"],[0.6666666666666666,\"#ed7953\"],[0.7777777777777778,\"#fb9f3a\"],[0.8888888888888888,\"#fdca26\"],[1.0,\"#f0f921\"]]}],\"choropleth\":[{\"type\":\"choropleth\",\"colorbar\":{\"outlinewidth\":0,\"ticks\":\"\"}}],\"histogram2d\":[{\"type\":\"histogram2d\",\"colorbar\":{\"outlinewidth\":0,\"ticks\":\"\"},\"colorscale\":[[0.0,\"#0d0887\"],[0.1111111111111111,\"#46039f\"],[0.2222222222222222,\"#7201a8\"],[0.3333333333333333,\"#9c179e\"],[0.4444444444444444,\"#bd3786\"],[0.5555555555555556,\"#d8576b\"],[0.6666666666666666,\"#ed7953\"],[0.7777777777777778,\"#fb9f3a\"],[0.8888888888888888,\"#fdca26\"],[1.0,\"#f0f921\"]]}],\"heatmap\":[{\"type\":\"heatmap\",\"colorbar\":{\"outlinewidth\":0,\"ticks\":\"\"},\"colorscale\":[[0.0,\"#0d0887\"],[0.1111111111111111,\"#46039f\"],[0.2222222222222222,\"#7201a8\"],[0.3333333333333333,\"#9c179e\"],[0.4444444444444444,\"#bd3786\"],[0.5555555555555556,\"#d8576b\"],[0.6666666666666666,\"#ed7953\"],[0.7777777777777778,\"#fb9f3a\"],[0.8888888888888888,\"#fdca26\"],[1.0,\"#f0f921\"]]}],\"heatmapgl\":[{\"type\":\"heatmapgl\",\"colorbar\":{\"outlinewidth\":0,\"ticks\":\"\"},\"colorscale\":[[0.0,\"#0d0887\"],[0.1111111111111111,\"#46039f\"],[0.2222222222222222,\"#7201a8\"],[0.3333333333333333,\"#9c179e\"],[0.4444444444444444,\"#bd3786\"],[0.5555555555555556,\"#d8576b\"],[0.6666666666666666,\"#ed7953\"],[0.7777777777777778,\"#fb9f3a\"],[0.8888888888888888,\"#fdca26\"],[1.0,\"#f0f921\"]]}],\"contourcarpet\":[{\"type\":\"contourcarpet\",\"colorbar\":{\"outlinewidth\":0,\"ticks\":\"\"}}],\"contour\":[{\"type\":\"contour\",\"colorbar\":{\"outlinewidth\":0,\"ticks\":\"\"},\"colorscale\":[[0.0,\"#0d0887\"],[0.1111111111111111,\"#46039f\"],[0.2222222222222222,\"#7201a8\"],[0.3333333333333333,\"#9c179e\"],[0.4444444444444444,\"#bd3786\"],[0.5555555555555556,\"#d8576b\"],[0.6666666666666666,\"#ed7953\"],[0.7777777777777778,\"#fb9f3a\"],[0.8888888888888888,\"#fdca26\"],[1.0,\"#f0f921\"]]}],\"surface\":[{\"type\":\"surface\",\"colorbar\":{\"outlinewidth\":0,\"ticks\":\"\"},\"colorscale\":[[0.0,\"#0d0887\"],[0.1111111111111111,\"#46039f\"],[0.2222222222222222,\"#7201a8\"],[0.3333333333333333,\"#9c179e\"],[0.4444444444444444,\"#bd3786\"],[0.5555555555555556,\"#d8576b\"],[0.6666666666666666,\"#ed7953\"],[0.7777777777777778,\"#fb9f3a\"],[0.8888888888888888,\"#fdca26\"],[1.0,\"#f0f921\"]]}],\"mesh3d\":[{\"type\":\"mesh3d\",\"colorbar\":{\"outlinewidth\":0,\"ticks\":\"\"}}],\"scatter\":[{\"fillpattern\":{\"fillmode\":\"overlay\",\"size\":10,\"solidity\":0.2},\"type\":\"scatter\"}],\"parcoords\":[{\"type\":\"parcoords\",\"line\":{\"colorbar\":{\"outlinewidth\":0,\"ticks\":\"\"}}}],\"scatterpolargl\":[{\"type\":\"scatterpolargl\",\"marker\":{\"colorbar\":{\"outlinewidth\":0,\"ticks\":\"\"}}}],\"bar\":[{\"error_x\":{\"color\":\"#2a3f5f\"},\"error_y\":{\"color\":\"#2a3f5f\"},\"marker\":{\"line\":{\"color\":\"#E5ECF6\",\"width\":0.5},\"pattern\":{\"fillmode\":\"overlay\",\"size\":10,\"solidity\":0.2}},\"type\":\"bar\"}],\"scattergeo\":[{\"type\":\"scattergeo\",\"marker\":{\"colorbar\":{\"outlinewidth\":0,\"ticks\":\"\"}}}],\"scatterpolar\":[{\"type\":\"scatterpolar\",\"marker\":{\"colorbar\":{\"outlinewidth\":0,\"ticks\":\"\"}}}],\"histogram\":[{\"marker\":{\"pattern\":{\"fillmode\":\"overlay\",\"size\":10,\"solidity\":0.2}},\"type\":\"histogram\"}],\"scattergl\":[{\"type\":\"scattergl\",\"marker\":{\"colorbar\":{\"outlinewidth\":0,\"ticks\":\"\"}}}],\"scatter3d\":[{\"type\":\"scatter3d\",\"line\":{\"colorbar\":{\"outlinewidth\":0,\"ticks\":\"\"}},\"marker\":{\"colorbar\":{\"outlinewidth\":0,\"ticks\":\"\"}}}],\"scattermapbox\":[{\"type\":\"scattermapbox\",\"marker\":{\"colorbar\":{\"outlinewidth\":0,\"ticks\":\"\"}}}],\"scatterternary\":[{\"type\":\"scatterternary\",\"marker\":{\"colorbar\":{\"outlinewidth\":0,\"ticks\":\"\"}}}],\"scattercarpet\":[{\"type\":\"scattercarpet\",\"marker\":{\"colorbar\":{\"outlinewidth\":0,\"ticks\":\"\"}}}],\"carpet\":[{\"aaxis\":{\"endlinecolor\":\"#2a3f5f\",\"gridcolor\":\"white\",\"linecolor\":\"white\",\"minorgridcolor\":\"white\",\"startlinecolor\":\"#2a3f5f\"},\"baxis\":{\"endlinecolor\":\"#2a3f5f\",\"gridcolor\":\"white\",\"linecolor\":\"white\",\"minorgridcolor\":\"white\",\"startlinecolor\":\"#2a3f5f\"},\"type\":\"carpet\"}],\"table\":[{\"cells\":{\"fill\":{\"color\":\"#EBF0F8\"},\"line\":{\"color\":\"white\"}},\"header\":{\"fill\":{\"color\":\"#C8D4E3\"},\"line\":{\"color\":\"white\"}},\"type\":\"table\"}],\"barpolar\":[{\"marker\":{\"line\":{\"color\":\"#E5ECF6\",\"width\":0.5},\"pattern\":{\"fillmode\":\"overlay\",\"size\":10,\"solidity\":0.2}},\"type\":\"barpolar\"}],\"pie\":[{\"automargin\":true,\"type\":\"pie\"}]},\"layout\":{\"autotypenumbers\":\"strict\",\"colorway\":[\"#636efa\",\"#EF553B\",\"#00cc96\",\"#ab63fa\",\"#FFA15A\",\"#19d3f3\",\"#FF6692\",\"#B6E880\",\"#FF97FF\",\"#FECB52\"],\"font\":{\"color\":\"#2a3f5f\"},\"hovermode\":\"closest\",\"hoverlabel\":{\"align\":\"left\"},\"paper_bgcolor\":\"white\",\"plot_bgcolor\":\"#E5ECF6\",\"polar\":{\"bgcolor\":\"#E5ECF6\",\"angularaxis\":{\"gridcolor\":\"white\",\"linecolor\":\"white\",\"ticks\":\"\"},\"radialaxis\":{\"gridcolor\":\"white\",\"linecolor\":\"white\",\"ticks\":\"\"}},\"ternary\":{\"bgcolor\":\"#E5ECF6\",\"aaxis\":{\"gridcolor\":\"white\",\"linecolor\":\"white\",\"ticks\":\"\"},\"baxis\":{\"gridcolor\":\"white\",\"linecolor\":\"white\",\"ticks\":\"\"},\"caxis\":{\"gridcolor\":\"white\",\"linecolor\":\"white\",\"ticks\":\"\"}},\"coloraxis\":{\"colorbar\":{\"outlinewidth\":0,\"ticks\":\"\"}},\"colorscale\":{\"sequential\":[[0.0,\"#0d0887\"],[0.1111111111111111,\"#46039f\"],[0.2222222222222222,\"#7201a8\"],[0.3333333333333333,\"#9c179e\"],[0.4444444444444444,\"#bd3786\"],[0.5555555555555556,\"#d8576b\"],[0.6666666666666666,\"#ed7953\"],[0.7777777777777778,\"#fb9f3a\"],[0.8888888888888888,\"#fdca26\"],[1.0,\"#f0f921\"]],\"sequentialminus\":[[0.0,\"#0d0887\"],[0.1111111111111111,\"#46039f\"],[0.2222222222222222,\"#7201a8\"],[0.3333333333333333,\"#9c179e\"],[0.4444444444444444,\"#bd3786\"],[0.5555555555555556,\"#d8576b\"],[0.6666666666666666,\"#ed7953\"],[0.7777777777777778,\"#fb9f3a\"],[0.8888888888888888,\"#fdca26\"],[1.0,\"#f0f921\"]],\"diverging\":[[0,\"#8e0152\"],[0.1,\"#c51b7d\"],[0.2,\"#de77ae\"],[0.3,\"#f1b6da\"],[0.4,\"#fde0ef\"],[0.5,\"#f7f7f7\"],[0.6,\"#e6f5d0\"],[0.7,\"#b8e186\"],[0.8,\"#7fbc41\"],[0.9,\"#4d9221\"],[1,\"#276419\"]]},\"xaxis\":{\"gridcolor\":\"white\",\"linecolor\":\"white\",\"ticks\":\"\",\"title\":{\"standoff\":15},\"zerolinecolor\":\"white\",\"automargin\":true,\"zerolinewidth\":2},\"yaxis\":{\"gridcolor\":\"white\",\"linecolor\":\"white\",\"ticks\":\"\",\"title\":{\"standoff\":15},\"zerolinecolor\":\"white\",\"automargin\":true,\"zerolinewidth\":2},\"scene\":{\"xaxis\":{\"backgroundcolor\":\"#E5ECF6\",\"gridcolor\":\"white\",\"linecolor\":\"white\",\"showbackground\":true,\"ticks\":\"\",\"zerolinecolor\":\"white\",\"gridwidth\":2},\"yaxis\":{\"backgroundcolor\":\"#E5ECF6\",\"gridcolor\":\"white\",\"linecolor\":\"white\",\"showbackground\":true,\"ticks\":\"\",\"zerolinecolor\":\"white\",\"gridwidth\":2},\"zaxis\":{\"backgroundcolor\":\"#E5ECF6\",\"gridcolor\":\"white\",\"linecolor\":\"white\",\"showbackground\":true,\"ticks\":\"\",\"zerolinecolor\":\"white\",\"gridwidth\":2}},\"shapedefaults\":{\"line\":{\"color\":\"#2a3f5f\"}},\"annotationdefaults\":{\"arrowcolor\":\"#2a3f5f\",\"arrowhead\":0,\"arrowwidth\":1},\"geo\":{\"bgcolor\":\"white\",\"landcolor\":\"#E5ECF6\",\"subunitcolor\":\"white\",\"showland\":true,\"showlakes\":true,\"lakecolor\":\"white\"},\"title\":{\"x\":0.05},\"mapbox\":{\"style\":\"light\"}}},\"legend\":{\"tracegroupgap\":0},\"title\":{\"text\":\"All sites\"}},                        {\"responsive\": true}                    ).then(function(){\n                            \nvar gd = document.getElementById('04a3a27d-c3f1-4433-84a3-a27aac02ee61');\nvar x = new MutationObserver(function (mutations, observer) {{\n        var display = window.getComputedStyle(gd).display;\n        if (!display || display === 'none') {{\n            console.log([gd, 'removed!']);\n            Plotly.purge(gd);\n            observer.disconnect();\n        }}\n}});\n\n// Listen for the removal of the full notebook cells\nvar notebookContainer = gd.closest('#notebook-container');\nif (notebookContainer) {{\n    x.observe(notebookContainer, {childList: true});\n}}\n\n// Listen for the clearing of the current output cell\nvar outputEl = gd.closest('.output');\nif (outputEl) {{\n    x.observe(outputEl, {childList: true});\n}}\n\n                        })                };                });            </script>        </div>"
                    },
                    "metadata": {},
                    "output_type": "display_data"
                }
            ],
            "source": ""
        }
    ],
    "metadata": {
        "kernelspec": {
            "display_name": "Python 3 (ipykernel)",
            "language": "python",
            "name": "python3"
        },
        "language_info": {
            "codemirror_mode": {
                "name": "ipython",
                "version": 3
            },
            "file_extension": ".py",
            "mimetype": "text/x-python",
            "name": "python",
            "nbconvert_exporter": "python",
            "pygments_lexer": "ipython3",
            "version": "3.9.13"
        }
    },
    "nbformat": 4,
    "nbformat_minor": 5
}